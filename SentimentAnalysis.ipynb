{
 "cells": [
  {
   "cell_type": "code",
   "execution_count": 2,
   "metadata": {},
   "outputs": [],
   "source": [
    "import torch\n",
    "import numpy as np\n",
    "import pandas as pd\n",
    "import matplotlib.pyplot as plt\n",
    "import seaborn as sns"
   ]
  },
  {
   "cell_type": "code",
   "execution_count": 23,
   "metadata": {},
   "outputs": [
    {
     "name": "stdout",
     "output_type": "stream",
     "text": [
      "                                                  review  sentiment  rating\n",
      "0      Story of a man who has unnatural feelings for ...  -0.071759       3\n",
      "1      Airport '77 starts as a brand new luxury 747 p...   0.040492       4\n",
      "2      This film lacked something I couldn't put my f...   0.079167       4\n",
      "3      Sorry everyone,,, I know this is supposed to b...   0.043542       1\n",
      "4      When I was little my parents took me along to ...  -0.055741       1\n",
      "...                                                  ...        ...     ...\n",
      "24995  Seeing as the vote average was pretty low, and...   0.297708       9\n",
      "24996  The plot had some wretched, unbelievable twist...   0.250000       8\n",
      "24997  I am amazed at how this movie(and most others ...   0.098681      10\n",
      "24998  A Christmas Together actually came before my t...   0.118069       8\n",
      "24999  Working-class romantic drama from director Mar...   0.128530       7\n",
      "\n",
      "[25000 rows x 3 columns]\n"
     ]
    }
   ],
   "source": [
    "import os\n",
    "from textblob import TextBlob\n",
    "\n",
    "# Функция для извлечения рейтинга из имени файла\n",
    "def extract_rating_from_filename(filename):\n",
    "    # Удаление расширения файла и разделение строки по символу '_'\n",
    "    base_name = os.path.splitext(filename)[0]\n",
    "    _, rating_str = base_name.split('_')\n",
    "    return int(rating_str)\n",
    "\n",
    "# Путь к данным\n",
    "path = ['aclImdb/train/neg', 'aclImdb/train/pos']\n",
    "\n",
    "data = []\n",
    "for directory_path in path:\n",
    "    for filename in os.listdir(directory_path):\n",
    "        if filename.endswith('.txt'):\n",
    "            file_path = os.path.join(directory_path, filename)\n",
    "            \n",
    "            # Проверка существования файла\n",
    "            if not os.path.isfile(file_path):\n",
    "                print(f\"File '{file_path}' does not exist.\")\n",
    "                continue\n",
    "            \n",
    "            rating = extract_rating_from_filename(filename)\n",
    "            \n",
    "            try:\n",
    "                with open(file_path, 'r', encoding='utf-8') as file:\n",
    "                    review_text = file.read().strip()\n",
    "            except UnicodeDecodeError:\n",
    "                try:\n",
    "                    with open(file_path, 'r', encoding='latin-1') as file:\n",
    "                        review_text = file.read().strip()\n",
    "                except UnicodeDecodeError:\n",
    "                    with open(file_path, 'r', encoding='cp1252') as file:\n",
    "                        review_text = file.read().strip()\n",
    "            \n",
    "            # Вычисление тональности текста\n",
    "            blob = TextBlob(review_text)\n",
    "            sentiment = blob.sentiment.polarity\n",
    "\n",
    "            # Добавление данных в список\n",
    "            data.append({'review': review_text, 'sentiment': sentiment, 'rating': rating})\n",
    "\n",
    "# Создание DataFrame\n",
    "df = pd.DataFrame(data, columns=['review', 'sentiment', 'rating'])\n",
    "\n",
    "print(df)"
   ]
  }
 ],
 "metadata": {
  "kernelspec": {
   "display_name": "Python 3",
   "language": "python",
   "name": "python3"
  },
  "language_info": {
   "codemirror_mode": {
    "name": "ipython",
    "version": 3
   },
   "file_extension": ".py",
   "mimetype": "text/x-python",
   "name": "python",
   "nbconvert_exporter": "python",
   "pygments_lexer": "ipython3",
   "version": "3.11.9"
  }
 },
 "nbformat": 4,
 "nbformat_minor": 2
}
